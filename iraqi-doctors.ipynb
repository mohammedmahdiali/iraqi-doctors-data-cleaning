{
 "cells": [
  {
   "cell_type": "markdown",
   "id": "b60c6a35",
   "metadata": {},
   "source": [
    "# Iraqi doctors\n",
    "\n",
    "Dataset: Private\n",
    "\n",
    "Author: https://github.com/mohammedmahdiali"
   ]
  },
  {
   "cell_type": "code",
   "execution_count": 1,
   "id": "b51cf77a",
   "metadata": {},
   "outputs": [],
   "source": [
    "import pandas as pd\n",
    "import numpy as np\n",
    "import seaborn as sns\n",
    "import matplotlib.pyplot as plt\n",
    "\n",
    "%matplotlib inline"
   ]
  },
  {
   "cell_type": "code",
   "execution_count": 2,
   "id": "65645434",
   "metadata": {},
   "outputs": [
    {
     "data": {
      "text/html": [
       "<div>\n",
       "<style scoped>\n",
       "    .dataframe tbody tr th:only-of-type {\n",
       "        vertical-align: middle;\n",
       "    }\n",
       "\n",
       "    .dataframe tbody tr th {\n",
       "        vertical-align: top;\n",
       "    }\n",
       "\n",
       "    .dataframe thead th {\n",
       "        text-align: right;\n",
       "    }\n",
       "</style>\n",
       "<table border=\"1\" class=\"dataframe\">\n",
       "  <thead>\n",
       "    <tr style=\"text-align: right;\">\n",
       "      <th></th>\n",
       "      <th>المحافظة</th>\n",
       "      <th>المنطقة</th>\n",
       "      <th>العنوان</th>\n",
       "      <th>رقم موبايل</th>\n",
       "      <th>الاختصاص</th>\n",
       "      <th>الاسم</th>\n",
       "      <th>Online Status</th>\n",
       "      <th>Provider Name</th>\n",
       "      <th>Doctor Specialty</th>\n",
       "      <th>Address</th>\n",
       "      <th>Region</th>\n",
       "      <th>Governorate</th>\n",
       "    </tr>\n",
       "  </thead>\n",
       "  <tbody>\n",
       "    <tr>\n",
       "      <th>0</th>\n",
       "      <td>بغداد</td>\n",
       "      <td>الوزيرية</td>\n",
       "      <td>مستشفى الدولي</td>\n",
       "      <td>7700200633\\n07800807059</td>\n",
       "      <td>جراحة عامة الباطنية والجهاز الهضمي</td>\n",
       "      <td>حارث مثنى خليل</td>\n",
       "      <td>Online</td>\n",
       "      <td>Hareth Muthanna Khalil</td>\n",
       "      <td>Gastroenterology, General Surgery</td>\n",
       "      <td>Al-Dowaly Hospital</td>\n",
       "      <td>Alwazayria</td>\n",
       "      <td>Baghdad</td>\n",
       "    </tr>\n",
       "    <tr>\n",
       "      <th>1</th>\n",
       "      <td>بغداد</td>\n",
       "      <td>الوزيرية</td>\n",
       "      <td>مستشفى الدولي</td>\n",
       "      <td>7700200633\\n07800807059</td>\n",
       "      <td>طب الاطفال وحديثي الولادة</td>\n",
       "      <td>بسام حامد</td>\n",
       "      <td>Online</td>\n",
       "      <td>Bassam Hamed</td>\n",
       "      <td>Pediatrics</td>\n",
       "      <td>Al-Dowaly Hospital</td>\n",
       "      <td>Alwazayria</td>\n",
       "      <td>Baghdad</td>\n",
       "    </tr>\n",
       "    <tr>\n",
       "      <th>2</th>\n",
       "      <td>بغداد</td>\n",
       "      <td>الوزيرية</td>\n",
       "      <td>مستشفى الدولي</td>\n",
       "      <td>7700200633\\n07800807059</td>\n",
       "      <td>امراض الكلى</td>\n",
       "      <td>محمد حنون السوداني</td>\n",
       "      <td>Online</td>\n",
       "      <td>Muhammad Hanoun Al-Sudani</td>\n",
       "      <td>nephrology</td>\n",
       "      <td>Al-Dowaly Hospital</td>\n",
       "      <td>Alwazayria</td>\n",
       "      <td>Baghdad</td>\n",
       "    </tr>\n",
       "    <tr>\n",
       "      <th>3</th>\n",
       "      <td>بغداد</td>\n",
       "      <td>الوزيرية</td>\n",
       "      <td>مستشفى الدولي</td>\n",
       "      <td>7700200633\\n07800807059</td>\n",
       "      <td>جراحة نسائية وتوليد</td>\n",
       "      <td>صبا السامي</td>\n",
       "      <td>Online</td>\n",
       "      <td>Saba Sami</td>\n",
       "      <td>Obstetrics and Gynecology</td>\n",
       "      <td>Al-Dowaly Hospital</td>\n",
       "      <td>Alwazayria</td>\n",
       "      <td>Baghdad</td>\n",
       "    </tr>\n",
       "    <tr>\n",
       "      <th>4</th>\n",
       "      <td>بغداد</td>\n",
       "      <td>الوزيرية</td>\n",
       "      <td>مستشفى الدولي</td>\n",
       "      <td>7700200633\\n07800807059</td>\n",
       "      <td>جراحة نسائية وتوليد</td>\n",
       "      <td>اسراء طالب</td>\n",
       "      <td>Online</td>\n",
       "      <td>Israa Talib</td>\n",
       "      <td>Obstetrics and Gynecology</td>\n",
       "      <td>Al-Dowaly Hospital</td>\n",
       "      <td>Alwazayria</td>\n",
       "      <td>Baghdad</td>\n",
       "    </tr>\n",
       "  </tbody>\n",
       "</table>\n",
       "</div>"
      ],
      "text/plain": [
       "   المحافظة  المنطقة         العنوان                رقم موبايل  \\\n",
       "0    بغداد   الوزيرية   مستشفى الدولي  7700200633\\n07800807059   \n",
       "1    بغداد   الوزيرية   مستشفى الدولي  7700200633\\n07800807059   \n",
       "2    بغداد   الوزيرية   مستشفى الدولي  7700200633\\n07800807059   \n",
       "3    بغداد   الوزيرية   مستشفى الدولي  7700200633\\n07800807059   \n",
       "4    بغداد   الوزيرية   مستشفى الدولي  7700200633\\n07800807059   \n",
       "\n",
       "                             الاختصاص               الاسم Online Status  \\\n",
       "0  جراحة عامة الباطنية والجهاز الهضمي      حارث مثنى خليل        Online   \n",
       "1           طب الاطفال وحديثي الولادة           بسام حامد        Online   \n",
       "2                         امراض الكلى  محمد حنون السوداني        Online   \n",
       "3                 جراحة نسائية وتوليد          صبا السامي        Online   \n",
       "4                 جراحة نسائية وتوليد          اسراء طالب        Online   \n",
       "\n",
       "               Provider Name                   Doctor Specialty  \\\n",
       "0     Hareth Muthanna Khalil  Gastroenterology, General Surgery   \n",
       "1               Bassam Hamed                         Pediatrics   \n",
       "2  Muhammad Hanoun Al-Sudani                         nephrology   \n",
       "3                  Saba Sami          Obstetrics and Gynecology   \n",
       "4                Israa Talib          Obstetrics and Gynecology   \n",
       "\n",
       "              Address      Region Governorate  \n",
       "0  Al-Dowaly Hospital  Alwazayria     Baghdad  \n",
       "1  Al-Dowaly Hospital  Alwazayria     Baghdad  \n",
       "2  Al-Dowaly Hospital  Alwazayria     Baghdad  \n",
       "3  Al-Dowaly Hospital  Alwazayria     Baghdad  \n",
       "4  Al-Dowaly Hospital  Alwazayria     Baghdad  "
      ]
     },
     "execution_count": 2,
     "metadata": {},
     "output_type": "execute_result"
    }
   ],
   "source": [
    "data = pd.read_excel('../doctors.xlsx')\n",
    "data.head()"
   ]
  },
  {
   "cell_type": "code",
   "execution_count": 3,
   "id": "e57ecad5",
   "metadata": {},
   "outputs": [
    {
     "name": "stdout",
     "output_type": "stream",
     "text": [
      "<class 'pandas.core.frame.DataFrame'>\n",
      "RangeIndex: 309 entries, 0 to 308\n",
      "Data columns (total 12 columns):\n",
      " #   Column            Non-Null Count  Dtype \n",
      "---  ------            --------------  ----- \n",
      " 0    المحافظة         309 non-null    object\n",
      " 1   المنطقة           309 non-null    object\n",
      " 2   العنوان           309 non-null    object\n",
      " 3   رقم موبايل        309 non-null    object\n",
      " 4   الاختصاص          309 non-null    object\n",
      " 5   الاسم             309 non-null    object\n",
      " 6   Online Status     309 non-null    object\n",
      " 7   Provider Name     309 non-null    object\n",
      " 8   Doctor Specialty  308 non-null    object\n",
      " 9   Address           309 non-null    object\n",
      " 10  Region            309 non-null    object\n",
      " 11  Governorate       309 non-null    object\n",
      "dtypes: object(12)\n",
      "memory usage: 29.1+ KB\n"
     ]
    }
   ],
   "source": [
    "data.info()"
   ]
  },
  {
   "cell_type": "code",
   "execution_count": 4,
   "id": "d9e2f0bd",
   "metadata": {},
   "outputs": [
    {
     "data": {
      "text/plain": [
       "Index([' المحافظة', 'المنطقة ', 'العنوان ', 'رقم موبايل', 'الاختصاص', 'الاسم',\n",
       "       'Online Status', 'Provider Name', 'Doctor Specialty', 'Address',\n",
       "       'Region', 'Governorate'],\n",
       "      dtype='object')"
      ]
     },
     "execution_count": 4,
     "metadata": {},
     "output_type": "execute_result"
    }
   ],
   "source": [
    "data.columns"
   ]
  },
  {
   "cell_type": "markdown",
   "id": "ff1b2b65",
   "metadata": {},
   "source": [
    "### Data cleaning"
   ]
  },
  {
   "cell_type": "markdown",
   "id": "7b21690c",
   "metadata": {},
   "source": [
    "#### Columns"
   ]
  },
  {
   "cell_type": "code",
   "execution_count": 5,
   "id": "cf7fa8d8",
   "metadata": {},
   "outputs": [],
   "source": [
    "to_drop = [' المحافظة', 'المنطقة ' , 'العنوان ' ,'الاختصاص' ,'الاسم', 'Online Status']\n",
    "data.drop(columns=to_drop, axis=1, inplace=True)"
   ]
  },
  {
   "cell_type": "code",
   "execution_count": 6,
   "id": "d657eecf",
   "metadata": {},
   "outputs": [],
   "source": [
    "data.rename(columns={'رقم موبايل':'phone'}, inplace=True)\n",
    "\n",
    "data.columns = [col.lower().strip().replace(' ', '_') for col in data.columns]"
   ]
  },
  {
   "cell_type": "code",
   "execution_count": 7,
   "id": "6685fcb6",
   "metadata": {},
   "outputs": [],
   "source": [
    "# I just need first phone number\n",
    "data['phone'] = data['phone'].apply(lambda x: str(x).split('\\n')[0])"
   ]
  },
  {
   "cell_type": "code",
   "execution_count": 8,
   "id": "6c91609d",
   "metadata": {},
   "outputs": [
    {
     "data": {
      "text/html": [
       "<div>\n",
       "<style scoped>\n",
       "    .dataframe tbody tr th:only-of-type {\n",
       "        vertical-align: middle;\n",
       "    }\n",
       "\n",
       "    .dataframe tbody tr th {\n",
       "        vertical-align: top;\n",
       "    }\n",
       "\n",
       "    .dataframe thead th {\n",
       "        text-align: right;\n",
       "    }\n",
       "</style>\n",
       "<table border=\"1\" class=\"dataframe\">\n",
       "  <thead>\n",
       "    <tr style=\"text-align: right;\">\n",
       "      <th></th>\n",
       "      <th>phone</th>\n",
       "      <th>provider_name</th>\n",
       "      <th>doctor_specialty</th>\n",
       "      <th>address</th>\n",
       "      <th>region</th>\n",
       "      <th>governorate</th>\n",
       "    </tr>\n",
       "  </thead>\n",
       "  <tbody>\n",
       "    <tr>\n",
       "      <th>0</th>\n",
       "      <td>7700200633</td>\n",
       "      <td>Hareth Muthanna Khalil</td>\n",
       "      <td>Gastroenterology, General Surgery</td>\n",
       "      <td>Al-Dowaly Hospital</td>\n",
       "      <td>Alwazayria</td>\n",
       "      <td>Baghdad</td>\n",
       "    </tr>\n",
       "    <tr>\n",
       "      <th>1</th>\n",
       "      <td>7700200633</td>\n",
       "      <td>Bassam Hamed</td>\n",
       "      <td>Pediatrics</td>\n",
       "      <td>Al-Dowaly Hospital</td>\n",
       "      <td>Alwazayria</td>\n",
       "      <td>Baghdad</td>\n",
       "    </tr>\n",
       "    <tr>\n",
       "      <th>2</th>\n",
       "      <td>7700200633</td>\n",
       "      <td>Muhammad Hanoun Al-Sudani</td>\n",
       "      <td>nephrology</td>\n",
       "      <td>Al-Dowaly Hospital</td>\n",
       "      <td>Alwazayria</td>\n",
       "      <td>Baghdad</td>\n",
       "    </tr>\n",
       "    <tr>\n",
       "      <th>3</th>\n",
       "      <td>7700200633</td>\n",
       "      <td>Saba Sami</td>\n",
       "      <td>Obstetrics and Gynecology</td>\n",
       "      <td>Al-Dowaly Hospital</td>\n",
       "      <td>Alwazayria</td>\n",
       "      <td>Baghdad</td>\n",
       "    </tr>\n",
       "    <tr>\n",
       "      <th>4</th>\n",
       "      <td>7700200633</td>\n",
       "      <td>Israa Talib</td>\n",
       "      <td>Obstetrics and Gynecology</td>\n",
       "      <td>Al-Dowaly Hospital</td>\n",
       "      <td>Alwazayria</td>\n",
       "      <td>Baghdad</td>\n",
       "    </tr>\n",
       "  </tbody>\n",
       "</table>\n",
       "</div>"
      ],
      "text/plain": [
       "        phone              provider_name                   doctor_specialty  \\\n",
       "0  7700200633     Hareth Muthanna Khalil  Gastroenterology, General Surgery   \n",
       "1  7700200633               Bassam Hamed                         Pediatrics   \n",
       "2  7700200633  Muhammad Hanoun Al-Sudani                         nephrology   \n",
       "3  7700200633                  Saba Sami          Obstetrics and Gynecology   \n",
       "4  7700200633                Israa Talib          Obstetrics and Gynecology   \n",
       "\n",
       "              address      region governorate  \n",
       "0  Al-Dowaly Hospital  Alwazayria     Baghdad  \n",
       "1  Al-Dowaly Hospital  Alwazayria     Baghdad  \n",
       "2  Al-Dowaly Hospital  Alwazayria     Baghdad  \n",
       "3  Al-Dowaly Hospital  Alwazayria     Baghdad  \n",
       "4  Al-Dowaly Hospital  Alwazayria     Baghdad  "
      ]
     },
     "execution_count": 8,
     "metadata": {},
     "output_type": "execute_result"
    }
   ],
   "source": [
    "data.head()"
   ]
  },
  {
   "cell_type": "markdown",
   "id": "71b76fdc",
   "metadata": {},
   "source": [
    "#### Data"
   ]
  },
  {
   "cell_type": "markdown",
   "id": "ffbd3851",
   "metadata": {},
   "source": [
    "* __*phone*__"
   ]
  },
  {
   "cell_type": "code",
   "execution_count": 9,
   "id": "762c72fe",
   "metadata": {},
   "outputs": [
    {
     "data": {
      "text/plain": [
       "078-00344311     45\n",
       "7801991511       35\n",
       "7700200633       29\n",
       "078-06552555     24\n",
       "7510214819       22\n",
       "7821716172       19\n",
       "7735244716       17\n",
       "7901281544       16\n",
       "7805561636       15\n",
       "7809797971       14\n",
       "07714559697      13\n",
       "077-21359222‬    11\n",
       "7700070175       10\n",
       "077-15686496     10\n",
       "075-12489910      9\n",
       "7809323905        8\n",
       "078-27784499      8\n",
       "07734446662       3\n",
       "078-04216765      1\n",
       "Name: phone, dtype: int64"
      ]
     },
     "execution_count": 9,
     "metadata": {},
     "output_type": "execute_result"
    }
   ],
   "source": [
    "data['phone'].value_counts() # 0, -"
   ]
  },
  {
   "cell_type": "code",
   "execution_count": 10,
   "id": "e24c7d78",
   "metadata": {},
   "outputs": [
    {
     "data": {
      "text/plain": [
       "07800344311     45\n",
       "07801991511     35\n",
       "07700200633     29\n",
       "07806552555     24\n",
       "07510214819     22\n",
       "07821716172     19\n",
       "07735244716     17\n",
       "07901281544     16\n",
       "07805561636     15\n",
       "07809797971     14\n",
       "07714559697     13\n",
       "07721359222‬    11\n",
       "07700070175     10\n",
       "07715686496     10\n",
       "07512489910      9\n",
       "07827784499      8\n",
       "07809323905      8\n",
       "07734446662      3\n",
       "07804216765      1\n",
       "Name: phone, dtype: int64"
      ]
     },
     "execution_count": 10,
     "metadata": {},
     "output_type": "execute_result"
    }
   ],
   "source": [
    "def fix_phone(phone):\n",
    "    if '-' in str(phone):\n",
    "        return str(phone).replace('-', '')\n",
    "    elif len(str(phone)) == 10:\n",
    "        return '0' + str(phone)\n",
    "    else:\n",
    "        return str(phone)\n",
    "\n",
    "data['phone'] = data['phone'].apply(fix_phone)\n",
    "data['phone'].value_counts()"
   ]
  },
  {
   "cell_type": "code",
   "execution_count": 11,
   "id": "c30ddbed",
   "metadata": {},
   "outputs": [
    {
     "data": {
      "image/png": "[encoded data removed]",
      "text/plain": [
       "<Figure size 432x288 with 1 Axes>"
      ]
     },
     "metadata": {
      "needs_background": "light"
     },
     "output_type": "display_data"
    }
   ],
   "source": [
    "data['phone'].value_counts().plot(kind='barh');"
   ]
  },
  {
   "cell_type": "markdown",
   "id": "03136fb8",
   "metadata": {},
   "source": [
    "* __*provider_name*__"
   ]
  },
  {
   "cell_type": "code",
   "execution_count": 12,
   "id": "5d8088e6",
   "metadata": {
    "scrolled": false
   },
   "outputs": [
    {
     "data": {
      "text/plain": [
       "array(['hareth muthanna khalil', 'bassam hamed',\n",
       "       'muhammad hanoun al-sudani', 'saba sami', 'israa talib',\n",
       "       'mostafa neama', 'mohamed abdel sattar', 'fayez akram al-salhi',\n",
       "       'denise rashad', 'suha yasser', 'ahmed abdel hadi',\n",
       "       'muhammad moayad', 'nadia reda', 'tahseen thweeny', 'baqer kredi',\n",
       "       'silwan akram', 'ali al-shamaa', 'ali aziz', 'mustafa mazen',\n",
       "       'marwa el khayat', 'raghad al shammari', 'marwa al-bawi',\n",
       "       'fadel hani', 'ahmad hamad', 'ammar fadel', 'osama al-sudani',\n",
       "       'alaa sheikh', 'marwa iyad', 'abeer riad', 'nawaf mahmoud',\n",
       "       'ammar ali athra', 'thamer al-rubaie', 'salama hamed',\n",
       "       'ahmed aboud al-akedi', 'haider al ameri', 'uday al hashemi',\n",
       "       'talib al-zaidi', 'heba khairy', 'omar adnan al mulla',\n",
       "       'mohammed abdullah', 'hussein al dabbagh', 'wael sami',\n",
       "       'issam al-shamry', 'najmuddin al-rozmanaji', 'adnan qahtan khalaf',\n",
       "       'bahaa al-anbari', 'wael kamel hamad', 'khudair jasim al-rawaq',\n",
       "       'ehab juma', 'haider munther al mousawi', 'muhammad rasul hussain',\n",
       "       'thaer rasim al-dahri', 'amer saleh', 'ahmed munther',\n",
       "       'wael rashid musleh', 'mayada salah el-din',\n",
       "       'ibtisam muhammad ismail', 'akram alraway', 'ali ghazala',\n",
       "       'issam al-amin', 'youssef salem khalaf', 'ahmed hassan ibrahim',\n",
       "       'hussein lafta hashem', 'waseem sameer al-rawi', 'ibrahim salem',\n",
       "       'riad saad al-jourani', 'othman shallal', 'mostafa samir',\n",
       "       'makki al-obaidi', 'mazen sahib', 'ghaith al-tamimi',\n",
       "       'wissal khaled', 'ibrahim mohammed al-obeidi',\n",
       "       'ahmed hamed al-tamimi', 'muzaffar jamal al sharifi',\n",
       "       'ahmed shaker', 'muzaffar al-taei', 'roahaa quraishi',\n",
       "       'mayada al-asadi', 'asmaa rajah', 'aufa jabaar',\n",
       "       'noor lameah al-caliph', 'ibtisam yousef al-saffar',\n",
       "       'adel naeem al-ajaki', 'aboud rashid al-razqi', 'talib al-jashmi',\n",
       "       'ali baqer al-hali', 'bilal al-rawi', 'muntadhar al-madany',\n",
       "       'hassanein farhan', 'afrah nasser al-mousawi', 'ahlam abd taher',\n",
       "       'ammar salah', 'saad mukhalaf', 'ahmad rajeh', 'ammar emad',\n",
       "       'ali saad', 'ahmad sabri', 'qusai ammar', 'raad sajid al-husseini',\n",
       "       'ekhlas jassim mahawi', 'mohammed al-lami', 'hoda amin al-zubaidi',\n",
       "       'ahmed riyadh', 'ali matnash', 'loay al-hallaq',\n",
       "       'tawfiq jassim mohammed', 'hathim khaled',\n",
       "       'ammar salman al-fayadh', 'omar zine el abidine',\n",
       "       'kitam  fakher al-hassani', 'ali fazaa', 'muhammad nidal kazem',\n",
       "       'heba mohammed abdullah', 'ali abdullah', 'mohamed breesam',\n",
       "       'saad abdullah sarsam', 'abdul karim abdul muttalib',\n",
       "       'mahmoud shehab', 'aqeel salman yuser', 'basim sabah abdullah',\n",
       "       'asia hassani', 'ahmed hashim', 'ali tariq abdul wahid',\n",
       "       'antoine khajik', 'muhannad al-essa', 'sajid ibrahim al-hassani',\n",
       "       'basim shihabi', 'sabah al-rubaie', 'muzahim lafta',\n",
       "       'mustafa al-qazwini', 'ali naji', 'ali nima abu shanin',\n",
       "       'ihssan abbas', 'haider al-zubaidi', 'sabah moses', 'saeb sahib',\n",
       "       'maher mahdi', \"ahmed nafi '\", 'muhannad kazem',\n",
       "       'lubna al-mukhtar', 'kazem tumah', 'sarah muhammad ali',\n",
       "       'ahmed al-shammari', 'zainab al-obaidy', 'ahmed shaker al-wasiti',\n",
       "       'haider wahab al-sarhan', 'aan sabah', 'ahmed aboud al-aqidi',\n",
       "       'ghadeer hikmat', 'faleh al-anbaki', 'maad mahdi', 'nidal salem',\n",
       "       'ahmed abdel-fattah al-hasso', 'rajiha al-shammari',\n",
       "       'zaid khalid khalil', 'anas mohammed abdullah', 'hadi salman',\n",
       "       'osama al-awadi', 'shaker hamad', 'mahmoud shakeeb',\n",
       "       'naglaa al-mawla', 'ihssan al-sudani', 'mami alwan',\n",
       "       'mazen shiber', 'musa qasim', 'muthanna aljizani',\n",
       "       'dr. sannan al-abayji', 'dr. adel jawad yassin',\n",
       "       'dr. jawad kazem al-hassani', 'jawad al-waili',\n",
       "       'dina shaker al-yasiri', 'wadad yad allah',\n",
       "       'taghreed khalil al-haidari', 'dr. gamal zarzis',\n",
       "       'dr. abdul razzaq sobeih', 'dr.abdul wahid abdul kadhim',\n",
       "       'dr.mustafa al-anbaki', 'dr.ali handal', 'dr. ibrahim muzaffar',\n",
       "       'aseel alaa majeed', 'hamid ismail al-shammari',\n",
       "       'sally moayad alloush', 'ahmed star al-asadi',\n",
       "       'yasser aziz mohamed', 'hussein alaa al-rubaie',\n",
       "       \"ali nafi 'al-husseini\", 'seed qahtan normal',\n",
       "       'nibras abdul hussain al-hindi', 'wissal ali kazem',\n",
       "       'muthanna salim al-hamidi', 'aseel walid al-humairi',\n",
       "       'hussien ali hakeem', 'ali razaq alhusseini',\n",
       "       'olaa abdullah alshaibani', 'osama nemah alhumeri', 'aliaa amer',\n",
       "       'aseel mohammed aslan', 'dr. haider hamid', 'dr. nateq al-waeli',\n",
       "       'dr. ali hadi', 'dr. nour al-issawi', 'dr. ali saadoun',\n",
       "       'dr. adnan fartousi', 'dr. asad adel', 'dr. ali fadala',\n",
       "       'd aseel dakhal', 'dr. aseel dakhal', 'dr. youssef kebbeh',\n",
       "       'dr. ali shahd', 'dr. hassan naeem', 'dr.sabah hadi', 'iman adnan',\n",
       "       'nael hussein', 'uronus', 'fadel abbas', 'al hassan', 'sabah hadi',\n",
       "       'hassan moin', 'khalid waleed', 'samer latif', 'thaer al-omari',\n",
       "       'yasser abdul jalil', 'rahim abdul zahra', 'noir dia',\n",
       "       'mohammad abd al kareem', 'issam star', 'qusay al-bahadli',\n",
       "       'haider saadoun', 'dr. ziad hammad abd', 'dr. essam mahmoud abd',\n",
       "       'dr.. hamid al falahi', 'dr. qahtan abed hanash',\n",
       "       'dr. qahtan adnan abboud', 'dr. abdul wahed al-issawi',\n",
       "       'dr. ahmed thabet al-ani', 'dr. hamid hardan', 'amna saleem',\n",
       "       'mohamed wahudi', 'ashraf ahmed al-husseini', 'amir muhammed',\n",
       "       'saher sabah sarhan', 'haider abdul amir', 'ahmed karim al-bidani',\n",
       "       'lamia youssef', 'yasser mansour', 'ahmed maged al-abd',\n",
       "       'ghosoun ali al-rubaie', 'yasser abdel jalil',\n",
       "       'basem saad hantoush', 'reda alwan al-hashemi',\n",
       "       'haider saadoun qassem', 'nael hussein zayer',\n",
       "       'al-hassan al-nusairi', 'abbas kanbar kosar',\n",
       "       'hussein mutashar aziz', 'ammar jabbar jani', 'samer moayed jawad',\n",
       "       'duha al hashemi', 'abbas daoud', 'muthana kamel al dorky',\n",
       "       'khaled waleed abu ragheef', 'saleh al-sharabi', 'hashem shalawi',\n",
       "       'bassam al-hajjar', 'laith al-sagherji', 'mohammed abdul sattar',\n",
       "       'mohammed saleh al-jubouri', 'sadeq bakr merhi',\n",
       "       'rafahh younis al-saffar', 'shatha youssef sheet',\n",
       "       'mahdi saleh al-tamimi', 'mahmoud musa al-mamari',\n",
       "       'heba muthana tonight', 'ahmed tariq hamed',\n",
       "       'bara makher al-jeraisy', 'nada hashem', 'mohamed walid',\n",
       "       'mahmoud al-hayali', 'mazen mahmoud fawzy al-sarraf',\n",
       "       'farah jamal ghazi', 'ahmed abdul ilah al-saffar',\n",
       "       'safwan hashem al-hamdani', 'abdullah waad najm',\n",
       "       'ahmed abdul-jabbar al-kardoushi', 'behind rushd el-louizi',\n",
       "       'mahmoud abdel jamili', 'shaima abdel hadi', 'amer dawood ayoub',\n",
       "       'waseem hashem al-khaffaf', 'mohammed khalil',\n",
       "       'muhammad zuhair shaker', 'mohamed aziz assi',\n",
       "       'dr.. muhammad othman mawla', 'dr.. anmar ahmed mawla',\n",
       "       'dr.. bassam ismail al-zuhairi', 'dr.. mansour maarouf mansour',\n",
       "       'dr.. zaydoun moayad al-taie', 'dr.. shaima hazem al-tayyar',\n",
       "       'dr.. zahraa amer agha', 'dr.. ashraf abdul razzaq al-saleh',\n",
       "       'dr.. raed younes al-rawi', 'dr.. ziad tariq mahmoud',\n",
       "       'dr.. salah al-ash', 'dr.. ahmed issa badrani',\n",
       "       'dr.. karam fawaz al-darzi'], dtype=object)"
      ]
     },
     "execution_count": 12,
     "metadata": {},
     "output_type": "execute_result"
    }
   ],
   "source": [
    "data['provider_name'] = data['provider_name'].apply(lambda x: x.lower().strip())\n",
    "\n",
    "data['provider_name'].unique() # or with for loop"
   ]
  },
  {
   "cell_type": "code",
   "execution_count": 13,
   "id": "1ef76efa",
   "metadata": {
    "scrolled": false
   },
   "outputs": [
    {
     "data": {
      "text/plain": [
       "array(['hareth muthanna khalil', 'bassam hamed',\n",
       "       'muhammad hanoun al-sudani', 'saba sami', 'israa talib',\n",
       "       'mostafa neama', 'mohamed abdel sattar', 'fayez akram al-salhi',\n",
       "       'denise rashad', 'suha yasser', 'ahmed abdel hadi',\n",
       "       'muhammad moayad', 'nadia reda', 'tahseen thweeny', 'baqer kredi',\n",
       "       'silwan akram', 'ali al-shamaa', 'ali aziz', 'mustafa mazen',\n",
       "       'marwa el khayat', 'raghad al shammari', 'marwa al-bawi',\n",
       "       'fadel hani', 'ahmad hamad', 'ammar fadel', 'osama al-sudani',\n",
       "       'alaa sheikh', 'marwa iyad', 'abeer riad', 'nawaf mahmoud',\n",
       "       'ammar ali athra', 'thamer al-rubaie', 'salama hamed',\n",
       "       'ahmed aboud al-akedi', 'haider al ameri', 'uday al hashemi',\n",
       "       'talib al-zaidi', 'heba khairy', 'omar adnan al mulla',\n",
       "       'mohammed abdullah', 'hussein al dabbagh', 'wael sami',\n",
       "       'issam al-shamry', 'najmuddin al-rozmanaji', 'adnan qahtan khalaf',\n",
       "       'bahaa al-anbari', 'wael kamel hamad', 'khudair jasim al-rawaq',\n",
       "       'ehab juma', 'haider munther al mousawi', 'muhammad rasul hussain',\n",
       "       'thaer rasim al-dahri', 'amer saleh', 'ahmed munther',\n",
       "       'wael rashid musleh', 'mayada salah el-din',\n",
       "       'ibtisam muhammad ismail', 'akram alraway', 'ali ghazala',\n",
       "       'issam al-amin', 'youssef salem khalaf', 'ahmed hassan ibrahim',\n",
       "       'hussein lafta hashem', 'waseem sameer al-rawi', 'ibrahim salem',\n",
       "       'riad saad al-jourani', 'othman shallal', 'mostafa samir',\n",
       "       'makki al-obaidi', 'mazen sahib', 'ghaith al-tamimi',\n",
       "       'wissal khaled', 'ibrahim mohammed al-obeidi',\n",
       "       'ahmed hamed al-tamimi', 'muzaffar jamal al sharifi',\n",
       "       'ahmed shaker', 'muzaffar al-taei', 'roahaa quraishi',\n",
       "       'mayada al-asadi', 'asmaa rajah', 'aufa jabaar',\n",
       "       'noor lameah al-caliph', 'ibtisam yousef al-saffar',\n",
       "       'adel naeem al-ajaki', 'aboud rashid al-razqi', 'talib al-jashmi',\n",
       "       'ali baqer al-hali', 'bilal al-rawi', 'muntadhar al-madany',\n",
       "       'hassanein farhan', 'afrah nasser al-mousawi', 'ahlam abd taher',\n",
       "       'ammar salah', 'saad mukhalaf', 'ahmad rajeh', 'ammar emad',\n",
       "       'ali saad', 'ahmad sabri', 'qusai ammar', 'raad sajid al-husseini',\n",
       "       'ekhlas jassim mahawi', 'mohammed al-lami', 'hoda amin al-zubaidi',\n",
       "       'ahmed riyadh', 'ali matnash', 'loay al-hallaq',\n",
       "       'tawfiq jassim mohammed', 'hathim khaled',\n",
       "       'ammar salman al-fayadh', 'omar zine el abidine',\n",
       "       'kitam  fakher al-hassani', 'ali fazaa', 'muhammad nidal kazem',\n",
       "       'heba mohammed abdullah', 'ali abdullah', 'mohamed breesam',\n",
       "       'saad abdullah sarsam', 'abdul karim abdul muttalib',\n",
       "       'mahmoud shehab', 'aqeel salman yuser', 'basim sabah abdullah',\n",
       "       'asia hassani', 'ahmed hashim', 'ali tariq abdul wahid',\n",
       "       'antoine khajik', 'muhannad al-essa', 'sajid ibrahim al-hassani',\n",
       "       'basim shihabi', 'sabah al-rubaie', 'muzahim lafta',\n",
       "       'mustafa al-qazwini', 'ali naji', 'ali nima abu shanin',\n",
       "       'ihssan abbas', 'haider al-zubaidi', 'sabah moses', 'saeb sahib',\n",
       "       'maher mahdi', \"ahmed nafi '\", 'muhannad kazem',\n",
       "       'lubna al-mukhtar', 'kazem tumah', 'sarah muhammad ali',\n",
       "       'ahmed al-shammari', 'zainab al-obaidy', 'ahmed shaker al-wasiti',\n",
       "       'haider wahab al-sarhan', 'aan sabah', 'ahmed aboud al-aqidi',\n",
       "       'ghadeer hikmat', 'faleh al-anbaki', 'maad mahdi', 'nidal salem',\n",
       "       'ahmed abdel-fattah al-hasso', 'rajiha al-shammari',\n",
       "       'zaid khalid khalil', 'anas mohammed abdullah', 'hadi salman',\n",
       "       'osama al-awadi', 'shaker hamad', 'mahmoud shakeeb',\n",
       "       'naglaa al-mawla', 'ihssan al-sudani', 'mami alwan',\n",
       "       'mazen shiber', 'musa qasim', 'muthanna aljizani',\n",
       "       'sannan al-abayji', 'adel jawad yassin', 'jawad kazem al-hassani',\n",
       "       'jawad al-waili', 'dina shaker al-yasiri', 'wadad yad allah',\n",
       "       'taghreed khalil al-haidari', 'gamal zarzis',\n",
       "       'abdul razzaq sobeih', 'bdul wahid abdul kadhim',\n",
       "       'ustafa al-anbaki', 'li handal', 'ibrahim muzaffar',\n",
       "       'aseel alaa majeed', 'hamid ismail al-shammari',\n",
       "       'sally moayad alloush', 'ahmed star al-asadi',\n",
       "       'yasser aziz mohamed', 'hussein alaa al-rubaie',\n",
       "       \"ali nafi 'al-husseini\", 'seed qahtan normal',\n",
       "       'nibras abdul hussain al-hindi', 'wissal ali kazem',\n",
       "       'muthanna salim al-hamidi', 'aseel walid al-humairi',\n",
       "       'hussien ali hakeem', 'ali razaq alhusseini',\n",
       "       'olaa abdullah alshaibani', 'osama nemah alhumeri', 'aliaa amer',\n",
       "       'aseel mohammed aslan', 'haider hamid', 'nateq al-waeli',\n",
       "       'ali hadi', 'nour al-issawi', 'ali saadoun', 'adnan fartousi',\n",
       "       'asad adel', 'ali fadala', 'd aseel dakhal', 'aseel dakhal',\n",
       "       'youssef kebbeh', 'ali shahd', 'hassan naeem', 'abah hadi',\n",
       "       'iman adnan', 'nael hussein', 'uronus', 'fadel abbas', 'al hassan',\n",
       "       'sabah hadi', 'hassan moin', 'khalid waleed', 'samer latif',\n",
       "       'thaer al-omari', 'yasser abdul jalil', 'rahim abdul zahra',\n",
       "       'noir dia', 'mohammad abd al kareem', 'issam star',\n",
       "       'qusay al-bahadli', 'haider saadoun', 'ziad hammad abd',\n",
       "       'essam mahmoud abd', 'hamid al falahi', 'qahtan abed hanash',\n",
       "       'qahtan adnan abboud', 'abdul wahed al-issawi',\n",
       "       'ahmed thabet al-ani', 'hamid hardan', 'amna saleem',\n",
       "       'mohamed wahudi', 'ashraf ahmed al-husseini', 'amir muhammed',\n",
       "       'saher sabah sarhan', 'haider abdul amir', 'ahmed karim al-bidani',\n",
       "       'lamia youssef', 'yasser mansour', 'ahmed maged al-abd',\n",
       "       'ghosoun ali al-rubaie', 'yasser abdel jalil',\n",
       "       'basem saad hantoush', 'reda alwan al-hashemi',\n",
       "       'haider saadoun qassem', 'nael hussein zayer',\n",
       "       'al-hassan al-nusairi', 'abbas kanbar kosar',\n",
       "       'hussein mutashar aziz', 'ammar jabbar jani', 'samer moayed jawad',\n",
       "       'duha al hashemi', 'abbas daoud', 'muthana kamel al dorky',\n",
       "       'khaled waleed abu ragheef', 'saleh al-sharabi', 'hashem shalawi',\n",
       "       'bassam al-hajjar', 'laith al-sagherji', 'mohammed abdul sattar',\n",
       "       'mohammed saleh al-jubouri', 'sadeq bakr merhi',\n",
       "       'rafahh younis al-saffar', 'shatha youssef sheet',\n",
       "       'mahdi saleh al-tamimi', 'mahmoud musa al-mamari',\n",
       "       'heba muthana tonight', 'ahmed tariq hamed',\n",
       "       'bara makher al-jeraisy', 'nada hashem', 'mohamed walid',\n",
       "       'mahmoud al-hayali', 'mazen mahmoud fawzy al-sarraf',\n",
       "       'farah jamal ghazi', 'ahmed abdul ilah al-saffar',\n",
       "       'safwan hashem al-hamdani', 'abdullah waad najm',\n",
       "       'ahmed abdul-jabbar al-kardoushi', 'behind rushd el-louizi',\n",
       "       'mahmoud abdel jamili', 'shaima abdel hadi', 'amer dawood ayoub',\n",
       "       'waseem hashem al-khaffaf', 'mohammed khalil',\n",
       "       'muhammad zuhair shaker', 'mohamed aziz assi',\n",
       "       'muhammad othman mawla', 'anmar ahmed mawla',\n",
       "       'bassam ismail al-zuhairi', 'mansour maarouf mansour',\n",
       "       'zaydoun moayad al-taie', 'shaima hazem al-tayyar',\n",
       "       'zahraa amer agha', 'ashraf abdul razzaq al-saleh',\n",
       "       'raed younes al-rawi', 'ziad tariq mahmoud', 'salah al-ash',\n",
       "       'ahmed issa badrani', 'karam fawaz al-darzi'], dtype=object)"
      ]
     },
     "execution_count": 13,
     "metadata": {},
     "output_type": "execute_result"
    }
   ],
   "source": [
    "def fix_name(name):\n",
    "    if 'dr.' in name:\n",
    "        return name.replace('.' ,'')[3:]\n",
    "    else:\n",
    "        return name\n",
    "data['provider_name'] = data['provider_name'].apply(fix_name)\n",
    "data['provider_name'].unique()"
   ]
  },
  {
   "cell_type": "markdown",
   "id": "5148efa5",
   "metadata": {},
   "source": [
    "* __*doctor_specialty*__"
   ]
  },
  {
   "cell_type": "code",
   "execution_count": 14,
   "id": "787e68af",
   "metadata": {},
   "outputs": [
    {
     "data": {
      "text/plain": [
       "general surgery                                  24\n",
       "neurology                                        20\n",
       "pediatric                                        18\n",
       "ophthalmology                                    18\n",
       "orthology                                        17\n",
       "ent                                              15\n",
       "gynecology                                       14\n",
       "dermatology                                      14\n",
       "obstetrics and gynecology                        14\n",
       "orthopedics                                      13\n",
       "urology surgery                                  12\n",
       "internal medicin , cardiology                    10\n",
       "internal medicine                                10\n",
       "radiology                                         9\n",
       "urology                                           7\n",
       "pediatrics                                        7\n",
       "cardiology                                        6\n",
       "internal medicin,cardiology,pulmonology           6\n",
       "e.n.t                                             6\n",
       "internal medicine ,cardiolog                      5\n",
       "resident doctor                                   5\n",
       "orthopidic                                        4\n",
       "neurosurgery                                      3\n",
       "dentist                                           3\n",
       "cardiothoracic ,vascular surgery                  3\n",
       "oncology                                          3\n",
       "gyneocology                                       3\n",
       "internal medicine, cardiology and pulmonology     2\n",
       "orthopedic surgery                                2\n",
       "orthopedics surgery                               2\n",
       "gastroenterology, general surgery                 2\n",
       "hematology                                        2\n",
       "internal medicine, cardiology and thoracic        2\n",
       "plastic surgery                                   2\n",
       "nephrology                                        2\n",
       "pulmonology,gastroenterology                      2\n",
       "nervous system and joints                         1\n",
       "neurolgy                                          1\n",
       "nan                                               1\n",
       "neurology surgerion                               1\n",
       "internal medicin                                  1\n",
       "obestetric & gynecology                           1\n",
       "endocrinology and oncology                        1\n",
       "oncology, endocrinology                           1\n",
       "pediatric surgery                                 1\n",
       "orthopedic                                        1\n",
       "gynicology                                        1\n",
       "thorasic surgery                                  1\n",
       "general surgury                                   1\n",
       "internal medicine, neurology                      1\n",
       "general surgery and urology                       1\n",
       "e nt                                              1\n",
       "dermatology and beauty                            1\n",
       "gyncology                                         1\n",
       "general surgery,gastroenterology                  1\n",
       "ear, nose and throat (ent)                        1\n",
       "dentistry                                         1\n",
       "internal medicine-cardiology                      1\n",
       "Name: doctor_specialty, dtype: int64"
      ]
     },
     "execution_count": 14,
     "metadata": {},
     "output_type": "execute_result"
    }
   ],
   "source": [
    "data['doctor_specialty'] = data['doctor_specialty'].apply(lambda x: str(x).lower().strip())\n",
    "data['doctor_specialty'].value_counts()"
   ]
  },
  {
   "cell_type": "code",
   "execution_count": 15,
   "id": "2e07039e",
   "metadata": {},
   "outputs": [
    {
     "data": {
      "text/plain": [
       "general surgery                 27\n",
       "pediatrics                      25\n",
       "neurology                       22\n",
       "e.n.t                           22\n",
       "cardiology                      21\n",
       "gynecology                      19\n",
       "orthopedics                     18\n",
       "ophthalmology                   18\n",
       "orthology                       17\n",
       "dermatology                     14\n",
       "obstetrics and gynecology       14\n",
       "urology surgery                 12\n",
       "internal medicine               11\n",
       "radiology                        9\n",
       "urology                          7\n",
       "pulmonology                      6\n",
       "resident doctor                  5\n",
       "dentistry                        4\n",
       "orthopedics surgery              4\n",
       "neuro surgery                    4\n",
       "gastroenterology                 3\n",
       "vascular surgery                 3\n",
       "oncology                         3\n",
       "hematology                       2\n",
       "plastic surgery                  2\n",
       "nephrology                       2\n",
       "cardiology and pulmonology       2\n",
       "cardiology and thoracic          2\n",
       "nervous system and joints        1\n",
       "nose and throat (ent)            1\n",
       "general surgery and urology      1\n",
       "endocrinology                    1\n",
       "thorasic surgery                 1\n",
       "obestetric & gynecology          1\n",
       "dermatology and beauty           1\n",
       "internal medicine-cardiology     1\n",
       "endocrinology and oncology       1\n",
       "pediatric surgery                1\n",
       "Name: doctor_specialty, dtype: int64"
      ]
     },
     "execution_count": 15,
     "metadata": {},
     "output_type": "execute_result"
    }
   ],
   "source": [
    "data['doctor_specialty'] = data['doctor_specialty'].apply(lambda x: str(x).split(',')[-1].strip())\n",
    "\n",
    "data['doctor_specialty'] = (data['doctor_specialty']\n",
    "                            .str\n",
    "                            .replace('gyncology', 'gynecology')\n",
    "                            .replace('gynicology', 'gynecology')\n",
    "                            .replace('gyneocology', 'gynecology')\n",
    "                            .replace('ent', 'e.n.t')\n",
    "                            .replace('e nt', 'e.n.t')\n",
    "                            .replace('internal medicin', 'internal medicine')\n",
    "                            .replace('dentist', 'dentistry')\n",
    "                            .replace('orthopedic', 'orthopedics')\n",
    "                            .replace('neurolgy', 'neurology')\n",
    "                            .replace('orthopedic surgery', 'orthopedics surgery')\n",
    "                            .replace('orthopidic', 'orthopedics')\n",
    "                            .replace('neurosurgery', 'neuro surgery')\n",
    "                            .replace('neurology surgerion', 'neuro surgery')\n",
    "                            .replace('general surgury', 'general surgery')\n",
    "                            .replace('cardiolog', 'cardiology')\n",
    "                            .replace('pediatric', 'pediatrics')\n",
    "                            .replace('nan', np.nan))\n",
    "                            \n",
    "data['doctor_specialty'].value_counts()"
   ]
  },
  {
   "cell_type": "markdown",
   "id": "adec3f4e",
   "metadata": {},
   "source": [
    "* __*address*__"
   ]
  },
  {
   "cell_type": "code",
   "execution_count": 16,
   "id": "0c2d8f01",
   "metadata": {
    "scrolled": false
   },
   "outputs": [
    {
     "data": {
      "text/plain": [
       "al-dahwi hospital                         40\n",
       "karrada / salman faeq street              35\n",
       "al-dowaly hospital                        29\n",
       "roya medical center                       24\n",
       "dfad mousel {al-zahrawi}                  22\n",
       "al-haramain center                        19\n",
       "al-shams medical complex                  17\n",
       "al-hayat medical center                   16\n",
       "new iraq center                           15\n",
       "al-zayton hospital                        14\n",
       "adam center2                              13\n",
       "al-qemma hospital / al-atifia hospital    11\n",
       "international medical center              10\n",
       "hamorabi medical center                   10\n",
       "al razi center                             9\n",
       "al-razi hospital                           8\n",
       "ishtar babylon complex                     8\n",
       "al-dahoway hospital / al-harthiya          5\n",
       "al-saydia corner complex                   3\n",
       "dijlah st - al-shams building              1\n",
       "Name: address, dtype: int64"
      ]
     },
     "execution_count": 16,
     "metadata": {},
     "output_type": "execute_result"
    }
   ],
   "source": [
    "data['address'] = data['address'].apply(lambda x: x.lower().strip())\n",
    "data['address'].value_counts()"
   ]
  },
  {
   "cell_type": "code",
   "execution_count": 17,
   "id": "e1141339",
   "metadata": {},
   "outputs": [
    {
     "data": {
      "image/png": "[encoded data removed]",
      "text/plain": [
       "<Figure size 432x288 with 1 Axes>"
      ]
     },
     "metadata": {
      "needs_background": "light"
     },
     "output_type": "display_data"
    }
   ],
   "source": [
    "data['address'].value_counts().plot(kind='barh');"
   ]
  },
  {
   "cell_type": "markdown",
   "id": "abb346fd",
   "metadata": {},
   "source": [
    "* __*region*__"
   ]
  },
  {
   "cell_type": "code",
   "execution_count": 18,
   "id": "2a84e568",
   "metadata": {},
   "outputs": [
    {
     "data": {
      "text/plain": [
       "al-harthiya         83\n",
       "mousel              44\n",
       "karrada             35\n",
       "maysan              33\n",
       "alwazayria          29\n",
       "samawa              19\n",
       "palestine street    16\n",
       "al-atifia           11\n",
       "babel               10\n",
       "al-wathiq square    10\n",
       "alramadi             8\n",
       "babylon              8\n",
       "al-saydia            3\n",
       "Name: region, dtype: int64"
      ]
     },
     "execution_count": 18,
     "metadata": {},
     "output_type": "execute_result"
    }
   ],
   "source": [
    "data['region'] = data['region'].apply(lambda x: x.lower().strip())\n",
    "data['region'].value_counts()"
   ]
  },
  {
   "cell_type": "code",
   "execution_count": 19,
   "id": "365c8f27",
   "metadata": {},
   "outputs": [
    {
     "data": {
      "image/png": "[encoded data removed]",
      "text/plain": [
       "<Figure size 432x288 with 1 Axes>"
      ]
     },
     "metadata": {
      "needs_background": "light"
     },
     "output_type": "display_data"
    }
   ],
   "source": [
    "data['region'].value_counts().plot(kind='barh');"
   ]
  },
  {
   "cell_type": "markdown",
   "id": "5c3f9e2b",
   "metadata": {},
   "source": [
    "* __*governorate*__"
   ]
  },
  {
   "cell_type": "code",
   "execution_count": 20,
   "id": "f207bd1f",
   "metadata": {},
   "outputs": [
    {
     "data": {
      "text/plain": [
       "baghdad       187\n",
       "mousel         44\n",
       "maysan         33\n",
       "al-muthana     19\n",
       "babel          10\n",
       "babylon         8\n",
       "alramadi        8\n",
       "Name: governorate, dtype: int64"
      ]
     },
     "execution_count": 20,
     "metadata": {},
     "output_type": "execute_result"
    }
   ],
   "source": [
    "data['governorate'] = data['governorate'].apply(lambda x: x.lower().strip())\n",
    "data['governorate'].value_counts()"
   ]
  },
  {
   "cell_type": "code",
   "execution_count": 21,
   "id": "f324da58",
   "metadata": {},
   "outputs": [],
   "source": [
    "data['governorate'] = data['governorate'].replace('babel', 'babylon')"
   ]
  },
  {
   "cell_type": "code",
   "execution_count": 22,
   "id": "6233b328",
   "metadata": {},
   "outputs": [
    {
     "data": {
      "image/png": "[encoded data removed]",
      "text/plain": [
       "<Figure size 432x288 with 1 Axes>"
      ]
     },
     "metadata": {
      "needs_background": "light"
     },
     "output_type": "display_data"
    }
   ],
   "source": [
    "data['governorate'].value_counts().plot(kind='barh');"
   ]
  },
  {
   "cell_type": "code",
   "execution_count": 23,
   "id": "f8263508",
   "metadata": {},
   "outputs": [
    {
     "data": {
      "text/plain": [
       "phone               0\n",
       "provider_name       0\n",
       "doctor_specialty    1\n",
       "address             0\n",
       "region              0\n",
       "governorate         0\n",
       "dtype: int64"
      ]
     },
     "execution_count": 23,
     "metadata": {},
     "output_type": "execute_result"
    }
   ],
   "source": [
    "data.isna().sum()"
   ]
  },
  {
   "cell_type": "code",
   "execution_count": 24,
   "id": "f895e2cf",
   "metadata": {},
   "outputs": [],
   "source": [
    "data.dropna(axis=0, inplace=True)"
   ]
  },
  {
   "cell_type": "code",
   "execution_count": 25,
   "id": "c523db0a",
   "metadata": {},
   "outputs": [
    {
     "data": {
      "text/html": [
       "<div>\n",
       "<style scoped>\n",
       "    .dataframe tbody tr th:only-of-type {\n",
       "        vertical-align: middle;\n",
       "    }\n",
       "\n",
       "    .dataframe tbody tr th {\n",
       "        vertical-align: top;\n",
       "    }\n",
       "\n",
       "    .dataframe thead th {\n",
       "        text-align: right;\n",
       "    }\n",
       "</style>\n",
       "<table border=\"1\" class=\"dataframe\">\n",
       "  <thead>\n",
       "    <tr style=\"text-align: right;\">\n",
       "      <th></th>\n",
       "      <th>phone</th>\n",
       "      <th>provider_name</th>\n",
       "      <th>doctor_specialty</th>\n",
       "      <th>address</th>\n",
       "      <th>region</th>\n",
       "      <th>governorate</th>\n",
       "    </tr>\n",
       "  </thead>\n",
       "  <tbody>\n",
       "    <tr>\n",
       "      <th>0</th>\n",
       "      <td>07700200633</td>\n",
       "      <td>hareth muthanna khalil</td>\n",
       "      <td>general surgery</td>\n",
       "      <td>al-dowaly hospital</td>\n",
       "      <td>alwazayria</td>\n",
       "      <td>baghdad</td>\n",
       "    </tr>\n",
       "    <tr>\n",
       "      <th>1</th>\n",
       "      <td>07700200633</td>\n",
       "      <td>bassam hamed</td>\n",
       "      <td>pediatrics</td>\n",
       "      <td>al-dowaly hospital</td>\n",
       "      <td>alwazayria</td>\n",
       "      <td>baghdad</td>\n",
       "    </tr>\n",
       "    <tr>\n",
       "      <th>2</th>\n",
       "      <td>07700200633</td>\n",
       "      <td>muhammad hanoun al-sudani</td>\n",
       "      <td>nephrology</td>\n",
       "      <td>al-dowaly hospital</td>\n",
       "      <td>alwazayria</td>\n",
       "      <td>baghdad</td>\n",
       "    </tr>\n",
       "    <tr>\n",
       "      <th>3</th>\n",
       "      <td>07700200633</td>\n",
       "      <td>saba sami</td>\n",
       "      <td>obstetrics and gynecology</td>\n",
       "      <td>al-dowaly hospital</td>\n",
       "      <td>alwazayria</td>\n",
       "      <td>baghdad</td>\n",
       "    </tr>\n",
       "    <tr>\n",
       "      <th>4</th>\n",
       "      <td>07700200633</td>\n",
       "      <td>israa talib</td>\n",
       "      <td>obstetrics and gynecology</td>\n",
       "      <td>al-dowaly hospital</td>\n",
       "      <td>alwazayria</td>\n",
       "      <td>baghdad</td>\n",
       "    </tr>\n",
       "  </tbody>\n",
       "</table>\n",
       "</div>"
      ],
      "text/plain": [
       "         phone              provider_name           doctor_specialty  \\\n",
       "0  07700200633     hareth muthanna khalil            general surgery   \n",
       "1  07700200633               bassam hamed                 pediatrics   \n",
       "2  07700200633  muhammad hanoun al-sudani                 nephrology   \n",
       "3  07700200633                  saba sami  obstetrics and gynecology   \n",
       "4  07700200633                israa talib  obstetrics and gynecology   \n",
       "\n",
       "              address      region governorate  \n",
       "0  al-dowaly hospital  alwazayria     baghdad  \n",
       "1  al-dowaly hospital  alwazayria     baghdad  \n",
       "2  al-dowaly hospital  alwazayria     baghdad  \n",
       "3  al-dowaly hospital  alwazayria     baghdad  \n",
       "4  al-dowaly hospital  alwazayria     baghdad  "
      ]
     },
     "execution_count": 25,
     "metadata": {},
     "output_type": "execute_result"
    }
   ],
   "source": [
    "data.head()"
   ]
  }
 ],
 "metadata": {
  "kernelspec": {
   "display_name": "Python 3",
   "language": "python",
   "name": "python3"
  },
  "language_info": {
   "codemirror_mode": {
    "name": "ipython",
    "version": 3
   },
   "file_extension": ".py",
   "mimetype": "text/x-python",
   "name": "python",
   "nbconvert_exporter": "python",
   "pygments_lexer": "ipython3",
   "version": "3.8.8"
  }
 },
 "nbformat": 4,
 "nbformat_minor": 5
}
